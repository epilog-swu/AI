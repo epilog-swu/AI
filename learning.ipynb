{
 "cells": [
  {
   "cell_type": "code",
   "execution_count": 1,
   "metadata": {},
   "outputs": [],
   "source": [
    "import os\n",
    "import numpy as np\n",
    "import pandas as pd\n",
    "from tensorflow.keras.preprocessing.sequence import pad_sequences\n",
    "from tensorflow.keras.models import Sequential\n",
    "from tensorflow.keras.layers import LSTM, Dense, Dropout, Input\n",
    "from tensorflow.keras.callbacks import EarlyStopping"
   ]
  },
  {
   "cell_type": "code",
   "execution_count": 2,
   "metadata": {},
   "outputs": [],
   "source": [
    "# 데이터셋 불러오기\n",
    "def load_and_prepare_data(base_dir, max_sequence_length=None):\n",
    "    sequences = []\n",
    "    labels = []\n",
    "\n",
    "    for label_dir in ['true', 'false']:\n",
    "        label_path = os.path.join(base_dir, label_dir)\n",
    "        label = 1 if label_dir == 'true' else 0  # true 디렉토리는 1로, false 디렉토리는 0으로 라벨링\n",
    "\n",
    "        for file_name in os.listdir(label_path):\n",
    "            file_path = os.path.join(label_path, file_name)\n",
    "            if file_name.endswith('.txt'):  # 확장자가 .txt인 파일만 처리\n",
    "                data = pd.read_csv(file_path, delimiter=',')\n",
    "                \n",
    "                sequences.append(data.values)\n",
    "                labels.append(label)\n",
    "\n",
    "    # 시퀀스 길이 맞추기 (패딩추가)\n",
    "    if max_sequence_length is None:\n",
    "        max_sequence_length = max(len(seq) for seq in sequences)\n",
    "    \n",
    "    padded_sequences = pad_sequences(sequences, maxlen=max_sequence_length, padding='post', dtype='float32')\n",
    "\n",
    "    return np.array(padded_sequences), np.array(labels), max_sequence_length"
   ]
  },
  {
   "cell_type": "code",
   "execution_count": 3,
   "metadata": {},
   "outputs": [],
   "source": [
    "# 슬라이딩 윈도우\n",
    "def create_sliding_windows(data, window_size, stride=1):\n",
    "    num_samples = data.shape[0]\n",
    "    num_timesteps = data.shape[1]\n",
    "    num_features = data.shape[2]\n",
    "    \n",
    "    windows = []\n",
    "    \n",
    "    for start in range(0, num_timesteps - window_size + 1, stride):\n",
    "        end = start + window_size\n",
    "        window = data[:, start:end, :]\n",
    "        windows.append(window)\n",
    "    \n",
    "    return np.array(windows).reshape(-1, window_size, num_features)"
   ]
  },
  {
   "cell_type": "code",
   "execution_count": 4,
   "metadata": {},
   "outputs": [
    {
     "name": "stdout",
     "output_type": "stream",
     "text": [
      "Original shape: (322, 35998, 6)\n",
      "x_windows: 695307480\n",
      "y_windows: 3220\n",
      "New shape after sliding window: (11588458, 10, 6)\n"
     ]
    }
   ],
   "source": [
    "# 데이터셋 불러오기\n",
    "base_dir = './training_data'\n",
    "X, y, max_len = load_and_prepare_data(base_dir)\n",
    "\n",
    "window_size = 10\n",
    "X_windows = create_sliding_windows(X, window_size)\n",
    "y_windows = np.repeat(y, X_windows.shape[1], axis=0)\n",
    "\n",
    "print(\"Original shape:\", X.shape)\n",
    "print(\"x_windows:\", X_windows.size)\n",
    "print(\"y_windows:\", y_windows.size)\n",
    "print(\"New shape after sliding window:\", X_windows.shape)"
   ]
  },
  {
   "cell_type": "code",
   "execution_count": 5,
   "metadata": {},
   "outputs": [
    {
     "ename": "AssertionError",
     "evalue": "",
     "output_type": "error",
     "traceback": [
      "\u001b[0;31m---------------------------------------------------------------------------\u001b[0m",
      "\u001b[0;31mAssertionError\u001b[0m                            Traceback (most recent call last)",
      "Cell \u001b[0;32mIn[5], line 2\u001b[0m\n\u001b[1;32m      1\u001b[0m \u001b[38;5;66;03m# 셔플\u001b[39;00m\n\u001b[0;32m----> 2\u001b[0m \u001b[38;5;28;01massert\u001b[39;00m \u001b[38;5;28mlen\u001b[39m(X_windows) \u001b[38;5;241m==\u001b[39m \u001b[38;5;28mlen\u001b[39m(y_windows)\n\u001b[1;32m      4\u001b[0m indices \u001b[38;5;241m=\u001b[39m np\u001b[38;5;241m.\u001b[39marange(\u001b[38;5;28mlen\u001b[39m(y_windows))\n\u001b[1;32m      5\u001b[0m np\u001b[38;5;241m.\u001b[39mrandom\u001b[38;5;241m.\u001b[39mshuffle(indices)\n",
      "\u001b[0;31mAssertionError\u001b[0m: "
     ]
    }
   ],
   "source": [
    "# 셔플\n",
    "assert len(X_windows) == len(y_windows)\n",
    "\n",
    "indices = np.arange(len(y_windows))\n",
    "np.random.shuffle(indices)\n",
    "\n",
    "X_shuffled = X_windows[indices]\n",
    "y_shuffled = y_windows[indices]\n",
    "\n",
    "X_train, X_val, y_train, y_val = train_test_split(X_shuffled, y_shuffled, test_size=0.2)"
   ]
  },
  {
   "cell_type": "code",
   "execution_count": null,
   "metadata": {},
   "outputs": [],
   "source": [
    "# 모델 구성\n",
    "model = Sequential()\n",
    "\n",
    "model.add(LSTM(16, input_shape=(window_size, X_windows.shape[2])))\n",
    "model.add(LSTM(units=32, return_sequences=True))\n",
    "model.add(Dropout(0.1))\n",
    "model.add(LSTM(units=16, return_sequences=False))\n",
    "model.add(Dropout(0.1))\n",
    "model.add(Dense(units=1, activation='sigmoid'))\n",
    "model.compile(optimizer='adam', loss='binary_crossentropy', metrics=['accuracy'])\n",
    "\n",
    "# 학습\n",
    "early_stopping = EarlyStopping(monitor='val_loss', patience=5, restore_best_weights=True)\n",
    "history = model.fit(X, y, epochs=20, batch_size=256, validation_split=0.2, callbacks=[early_stopping])"
   ]
  },
  {
   "cell_type": "code",
   "execution_count": null,
   "metadata": {},
   "outputs": [],
   "source": []
  },
  {
   "cell_type": "code",
   "execution_count": null,
   "metadata": {},
   "outputs": [],
   "source": []
  },
  {
   "cell_type": "code",
   "execution_count": null,
   "metadata": {},
   "outputs": [],
   "source": []
  },
  {
   "cell_type": "code",
   "execution_count": null,
   "metadata": {},
   "outputs": [],
   "source": []
  }
 ],
 "metadata": {
  "kernelspec": {
   "display_name": "Python 3 (ipykernel)",
   "language": "python",
   "name": "python3"
  },
  "language_info": {
   "codemirror_mode": {
    "name": "ipython",
    "version": 3
   },
   "file_extension": ".py",
   "mimetype": "text/x-python",
   "name": "python",
   "nbconvert_exporter": "python",
   "pygments_lexer": "ipython3",
   "version": "3.11.7"
  }
 },
 "nbformat": 4,
 "nbformat_minor": 4
}
