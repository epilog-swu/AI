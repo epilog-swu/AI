{
 "cells": [
  {
   "cell_type": "code",
   "execution_count": 1,
   "metadata": {},
   "outputs": [],
   "source": [
    "import os\n",
    "import numpy as np\n",
    "import pandas as pd\n",
    "from tensorflow.keras.preprocessing.sequence import pad_sequences\n",
    "from tensorflow.keras.models import Sequential\n",
    "from tensorflow.keras.layers import LSTM, Dense, Dropout, Input\n",
    "from tensorflow.keras.callbacks import EarlyStopping\n",
    "from sklearn.model_selection import train_test_split"
   ]
  },
  {
   "cell_type": "code",
   "execution_count": 2,
   "metadata": {},
   "outputs": [],
   "source": [
    "# 데이터셋 불러오기\n",
    "def load_and_prepare_data(base_dir, max_sequence_length=None):\n",
    "    sequences = []\n",
    "    labels = []\n",
    "\n",
    "    for label_dir in ['true', 'false']:\n",
    "        label_path = os.path.join(base_dir, label_dir)\n",
    "        label = 1 if label_dir == 'true' else 0  # true 디렉토리 1, false 디렉토리 0\n",
    "\n",
    "        for file_name in os.listdir(label_path):\n",
    "            file_path = os.path.join(label_path, file_name)\n",
    "            if file_name.endswith('.txt'):\n",
    "                data = pd.read_csv(file_path, delimiter=',')\n",
    "                \n",
    "                sequences.append(data.values)\n",
    "                labels.append(label)\n",
    "\n",
    "    # 시퀀스 길이 맞추기 (패딩추가)\n",
    "    if max_sequence_length is None:\n",
    "        max_sequence_length = max(len(seq) for seq in sequences)\n",
    "    \n",
    "    padded_sequences = pad_sequences(sequences, maxlen=max_sequence_length, padding='post', dtype='float32')\n",
    "\n",
    "    return np.array(padded_sequences), np.array(labels), max_sequence_length"
   ]
  },
  {
   "cell_type": "code",
   "execution_count": 3,
   "metadata": {},
   "outputs": [],
   "source": [
    "# 슬라이딩 윈도우\n",
    "def create_sliding_windows(data, labels, window_size, stride=1):\n",
    "    num_samples = data.shape[0]\n",
    "    num_timesteps = data.shape[1]\n",
    "    num_features = data.shape[2]\n",
    "    \n",
    "    windows = []\n",
    "    window_labels = []\n",
    "\n",
    "    for i in range(num_samples):\n",
    "        for start in range(0, num_timesteps - window_size + 1, stride):\n",
    "            end = start + window_size\n",
    "            window = data[i, start:end, :]\n",
    "            windows.append(window)\n",
    "            window_labels.append(labels[i])\n",
    "    \n",
    "    return np.array(windows), np.array(window_labels)"
   ]
  },
  {
   "cell_type": "code",
   "execution_count": null,
   "metadata": {},
   "outputs": [],
   "source": [
    "# 데이터셋 불러오기\n",
    "base_dir = './training_data'\n",
    "X, y, max_len = load_and_prepare_data(base_dir)\n",
    "\n",
    "# 슬라이딩 윈도우 적용\n",
    "window_size = 10\n",
    "X_windows, y_windows = create_sliding_windows(X, y, window_size)\n",
    "\n",
    "print(\"Original:\", X.shape)\n",
    "print(\"after x_windows:\", X_windows.shape)\n",
    "print(\"after y_windows:\", y_windows.shape)"
   ]
  },
  {
   "cell_type": "code",
   "execution_count": null,
   "metadata": {},
   "outputs": [],
   "source": [
    "# 셔플\n",
    "assert len(X_windows) == len(y_windows)\n",
    "\n",
    "indices = np.arange(len(y_windows))\n",
    "np.random.shuffle(indices)\n",
    "\n",
    "X_shuffled = X_windows[indices]\n",
    "y_shuffled = y_windows[indices]\n",
    "\n",
    "# Train/Validation split\n",
    "X_train, X_val, y_train, y_val = train_test_split(X_shuffled, y_shuffled, test_size=0.2)\n",
    "print(X_trains)\n",
    "print(X_val)"
   ]
  },
  {
   "cell_type": "code",
   "execution_count": 7,
   "metadata": {},
   "outputs": [],
   "source": [
    "# 모델 구성\n",
    "model = Sequential()\n",
    "model.add(LSTM(16, return_sequences=True, input_shape=(window_size, X_windows.shape[2])))\n",
    "model.add(LSTM(units=32, return_sequences=True)) \n",
    "model.add(Dropout(0.1))\n",
    "model.add(LSTM(units=16, return_sequences=False)) \n",
    "model.add(Dropout(0.1))\n",
    "model.add(Dense(units=1, activation='sigmoid'))\n",
    "\n",
    "model.compile(optimizer='adam', loss='binary_crossentropy', metrics=['accuracy'])"
   ]
  },
  {
   "cell_type": "code",
   "execution_count": null,
   "metadata": {},
   "outputs": [
    {
     "name": "stdout",
     "output_type": "stream",
     "text": [
      "Epoch 1/15\n",
      "\u001b[1m36214/36214\u001b[0m \u001b[32m━━━━━━━━━━━━━━━━━━━━\u001b[0m\u001b[37m\u001b[0m \u001b[1m636s\u001b[0m 17ms/step - accuracy: 0.7293 - loss: 0.5726 - val_accuracy: 0.7343 - val_loss: 0.5610\n",
      "Epoch 2/15\n",
      "\u001b[1m36214/36214\u001b[0m \u001b[32m━━━━━━━━━━━━━━━━━━━━\u001b[0m\u001b[37m\u001b[0m \u001b[1m0s\u001b[0m 16ms/step - accuracy: 0.7356 - loss: 0.5590"
     ]
    }
   ],
   "source": [
    "# 학습\n",
    "early_stopping = EarlyStopping(monitor='val_loss', patience=5, restore_best_weights=True)\n",
    "history = model.fit(X_train, y_train, epochs=15, batch_size=256, validation_data=(X_val, y_val), callbacks=[early_stopping])"
   ]
  },
  {
   "cell_type": "code",
   "execution_count": null,
   "metadata": {},
   "outputs": [],
   "source": []
  },
  {
   "cell_type": "code",
   "execution_count": null,
   "metadata": {},
   "outputs": [],
   "source": []
  },
  {
   "cell_type": "code",
   "execution_count": null,
   "metadata": {},
   "outputs": [],
   "source": []
  }
 ],
 "metadata": {
  "kernelspec": {
   "display_name": "Python 3 (ipykernel)",
   "language": "python",
   "name": "python3"
  },
  "language_info": {
   "codemirror_mode": {
    "name": "ipython",
    "version": 3
   },
   "file_extension": ".py",
   "mimetype": "text/x-python",
   "name": "python",
   "nbconvert_exporter": "python",
   "pygments_lexer": "ipython3",
   "version": "3.11.7"
  }
 },
 "nbformat": 4,
 "nbformat_minor": 4
}
