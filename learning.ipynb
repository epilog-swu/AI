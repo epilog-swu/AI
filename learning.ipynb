{
 "cells": [
  {
   "cell_type": "code",
   "execution_count": 1,
   "metadata": {},
   "outputs": [],
   "source": [
    "import os\n",
    "import numpy as np\n",
    "import pandas as pd\n",
    "from keras.utils import plot_model\n",
    "from tensorflow.keras.preprocessing.sequence import pad_sequences\n",
    "from tensorflow.keras.models import Sequential\n",
    "from tensorflow.keras.layers import LSTM, Dense, Dropout, Input\n",
    "from tensorflow.keras.callbacks import EarlyStopping\n",
    "from sklearn.model_selection import train_test_split\n",
    "import matplotlib.pyplot as plt"
   ]
  },
  {
   "cell_type": "code",
   "execution_count": 2,
   "metadata": {},
   "outputs": [],
   "source": [
    "def load_and_prepare_data(base_dir, max_sequence_length=None):\n",
    "    sequences = []\n",
    "    labels = []\n",
    "\n",
    "    for label_dir in ['true', 'false']:\n",
    "        label_path = os.path.join(base_dir, label_dir)\n",
    "        label = 1 if label_dir == 'true' else 0  # true 디렉토리 1, false 디렉토리 0\n",
    "\n",
    "        for file_name in os.listdir(label_path):\n",
    "            file_path = os.path.join(label_path, file_name)\n",
    "            if file_name.endswith('.txt'):\n",
    "                data = pd.read_csv(file_path, delimiter=',')\n",
    "                \n",
    "                sequences.append(data.values)\n",
    "                labels.append(label)\n",
    "\n",
    "    # 시퀀스 길이 맞추기 (패딩추가)\n",
    "    if max_sequence_length is None:\n",
    "        max_sequence_length = max(len(seq) for seq in sequences)\n",
    "    \n",
    "    padded_sequences = pad_sequences(sequences, maxlen=max_sequence_length, padding='post', dtype='float32')\n",
    "\n",
    "    return np.array(padded_sequences), np.array(labels), max_sequence_length"
   ]
  },
  {
   "cell_type": "code",
   "execution_count": 3,
   "metadata": {},
   "outputs": [],
   "source": [
    "def create_sliding_windows(data, labels, window_size, stride=1):\n",
    "    num_samples = data.shape[0]\n",
    "    num_timesteps = data.shape[1]\n",
    "    num_features = data.shape[2]\n",
    "    \n",
    "    windows = []\n",
    "    window_labels = []\n",
    "\n",
    "    for i in range(num_samples):\n",
    "        for start in range(0, num_timesteps - window_size + 1, stride):\n",
    "            end = start + window_size\n",
    "            window = data[i, start:end, :]\n",
    "            windows.append(window)\n",
    "            window_labels.append(labels[i])\n",
    "    \n",
    "    return np.array(windows), np.array(window_labels)"
   ]
  },
  {
   "cell_type": "code",
   "execution_count": null,
   "metadata": {},
   "outputs": [],
   "source": [
    "# 데이터셋 불러오기\n",
    "base_dir = './training_data'\n",
    "X, y, max_len = load_and_prepare_data(base_dir)\n",
    "\n",
    "# 슬라이딩 윈도우 적용\n",
    "window_size = 100\n",
    "X_windows, y_windows = create_sliding_windows(X, y, window_size)\n",
    "\n",
    "print(\"Original:\", X.shape)\n",
    "print(\"after x_windows:\", X_windows.shape)\n",
    "print(\"after y_windows:\", y_windows.shape)"
   ]
  },
  {
   "cell_type": "code",
   "execution_count": null,
   "metadata": {},
   "outputs": [],
   "source": [
    "# 셔플\n",
    "assert len(X_windows) == len(y_windows)\n",
    "\n",
    "indices = np.arange(len(y_windows))\n",
    "np.random.shuffle(indices)\n",
    "\n",
    "X_shuffled = X_windows[indices]\n",
    "y_shuffled = y_windows[indices]\n",
    "\n",
    "# Train/Validation split\n",
    "X_train, X_val, y_train, y_val = train_test_split(X_shuffled, y_shuffled, test_size=0.2)\n",
    "print(X_trains)\n",
    "print(X_val)"
   ]
  },
  {
   "cell_type": "code",
   "execution_count": null,
   "metadata": {},
   "outputs": [],
   "source": [
    "# 모델 구성\n",
    "model = Sequential()\n",
    "model.add(LSTM(32, return_sequences=True, input_shape=(window_size, X_windows.shape[2])))\n",
    "model.add(Dropout(0.3))  \n",
    "model.add(LSTM(16, return_sequences=False)) \n",
    "model.add(Dropout(0.3)) \n",
    "model.add(Dense(units=1, activation='sigmoid'))\n",
    "\n",
    "model.compile(optimizer='adam', loss='binary_crossentropy', metrics=['accuracy'])\n",
    "plot_model(model, to_file='model.png', show_shapes=True, show_layer_names=True)"
   ]
  },
  {
   "cell_type": "code",
   "execution_count": null,
   "metadata": {},
   "outputs": [],
   "source": [
    "# 모델 학습\n",
    "history = model.fit(X_train, y_train, \n",
    "                    epochs=15, \n",
    "                    batch_size=512, \n",
    "                    validation_data=(X_val, y_val))"
   ]
  },
  {
   "cell_type": "code",
   "execution_count": null,
   "metadata": {},
   "outputs": [],
   "source": [
    "import matplotlib.pyplot as plt\n",
    "\n",
    "# 학습 손실 시각화\n",
    "plt.plot(history.history['loss'], label='train_loss')\n",
    "plt.plot(history.history['val_loss'], label='val_loss')\n",
    "plt.legend()\n",
    "plt.title('Model Loss')\n",
    "plt.show()\n",
    "\n",
    "# 학습 정확도 시각화\n",
    "plt.plot(history.history['accuracy'], label='train_accuracy')\n",
    "plt.plot(history.history['val_accuracy'], label='val_accuracy')\n",
    "plt.legend()\n",
    "plt.title('Model Accuracy')\n",
    "plt.show()"
   ]
  }
 ],
 "metadata": {
  "kernelspec": {
   "display_name": "Python 3 (ipykernel)",
   "language": "python",
   "name": "python3"
  },
  "language_info": {
   "codemirror_mode": {
    "name": "ipython",
    "version": 3
   },
   "file_extension": ".py",
   "mimetype": "text/x-python",
   "name": "python",
   "nbconvert_exporter": "python",
   "pygments_lexer": "ipython3",
   "version": "3.11.7"
  }
 },
 "nbformat": 4,
 "nbformat_minor": 4
}
