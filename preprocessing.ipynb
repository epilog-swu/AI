{
 "cells": [
  {
   "cell_type": "code",
   "execution_count": 1,
   "metadata": {},
   "outputs": [],
   "source": [
    "import pandas as pd\n",
    "import os\n",
    "\n",
    "def convert_data(file_path, output_dir):\n",
    "    data = pd.read_csv(file_path, delimiter=',')\n",
    "    data = data.iloc[:, :6]\n",
    "\n",
    "    # 컬럼 이름 지정\n",
    "    data.columns = ['accX', 'accY', 'accZ', 'gyroX', 'gyroY', 'gyroZ']\n",
    "\n",
    "    # 가속도 데이터 변환\n",
    "    adxl345_range_value = 16  # ±16g\n",
    "    adxl345_resolution = 13  # 13 bits\n",
    "    adxl345_conversion_factor = (2 * adxl345_range_value) / (2 ** adxl345_resolution) \n",
    "\n",
    "    # 스마트워치 가속도 범위\n",
    "    watch_acc_max_range = 78.4532\n",
    "\n",
    "    # ADXL345 데이터를 변환하고, 스마트워치 범위로 스케일링\n",
    "    data['accX'] = (data['accX'] * adxl345_conversion_factor * (watch_acc_max_range / adxl345_range_value)).round(2)\n",
    "    data['accY'] = (data['accY'] * adxl345_conversion_factor * (watch_acc_max_range / adxl345_range_value)).round(2)\n",
    "    data['accZ'] = (data['accZ'] * adxl345_conversion_factor * (watch_acc_max_range / adxl345_range_value)).round(2)\n",
    "\n",
    "    # 각속도 데이터 변환\n",
    "    itg3200_range_value = 2000  # ±2000 °/s\n",
    "    itg3200_resolution = 16  # 16 bits\n",
    "    itg3200_conversion_factor = (2 * itg3200_range_value) / (2 ** itg3200_resolution) \n",
    "\n",
    "    # 스마트워치 자이로스코프 범위\n",
    "    watch_gyro_max_range = 17.453642\n",
    "\n",
    "    # 스케일링\n",
    "    data['gyroX'] = (data['gyroX'] * itg3200_conversion_factor * (watch_gyro_max_range / itg3200_range_value)).round(2)\n",
    "    data['gyroY'] = (data['gyroY'] * itg3200_conversion_factor * (watch_gyro_max_range / itg3200_range_value)).round(2)\n",
    "    data['gyroZ'] = (data['gyroZ'] * itg3200_conversion_factor * (watch_gyro_max_range / itg3200_range_value)).round(2)\n",
    "\n",
    "    output_file_path = os.path.join(output_dir, os.path.basename(file_path))\n",
    "    data.to_csv(output_file_path, index=False)"
   ]
  },
  {
   "cell_type": "code",
   "execution_count": 2,
   "metadata": {},
   "outputs": [],
   "source": [
    "def process_directory(input_dir, output_base_dir, label):\n",
    "    output_dir = os.path.join(output_base_dir, label)\n",
    "    if not os.path.exists(output_dir):\n",
    "        os.makedirs(output_dir)\n",
    "    \n",
    "    for root, dirs, files in os.walk(input_dir):\n",
    "        for file in files:\n",
    "            if file.endswith('.txt'):\n",
    "                file_path = os.path.join(root, file)\n",
    "                convert_data(file_path, output_dir)"
   ]
  },
  {
   "cell_type": "code",
   "execution_count": 3,
   "metadata": {},
   "outputs": [],
   "source": [
    "directories = ['./D01', './D05', './D12', './D14', './F01', './F02', './F08', './F09', './F13', './F15']\n",
    "output_base_dir = './training_data'\n",
    "\n",
    "# 각 디렉토리 처리\n",
    "for directory in directories:\n",
    "    label = 'false' if os.path.basename(directory).startswith('D') else 'true'\n",
    "    process_directory(directory, output_base_dir, label)"
   ]
  },
  {
   "cell_type": "code",
   "execution_count": null,
   "metadata": {},
   "outputs": [],
   "source": []
  }
 ],
 "metadata": {
  "kernelspec": {
   "display_name": "Python 3 (ipykernel)",
   "language": "python",
   "name": "python3"
  },
  "language_info": {
   "codemirror_mode": {
    "name": "ipython",
    "version": 3
   },
   "file_extension": ".py",
   "mimetype": "text/x-python",
   "name": "python",
   "nbconvert_exporter": "python",
   "pygments_lexer": "ipython3",
   "version": "3.11.7"
  }
 },
 "nbformat": 4,
 "nbformat_minor": 4
}
